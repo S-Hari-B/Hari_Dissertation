{
 "cells": [
  {
   "cell_type": "markdown",
   "id": "5f8382cd-c83d-4811-98c0-e0658b6976f2",
   "metadata": {},
   "source": [
    "## Importing Libraries"
   ]
  },
  {
   "cell_type": "code",
   "execution_count": 1,
   "id": "d1d3948f-d2e9-4748-97bc-2e6591ac417d",
   "metadata": {},
   "outputs": [],
   "source": [
    "import time, requests, datetime as dt\n",
    "import numpy as np, pandas as pd, seaborn as sns, matplotlib.pyplot as plt\n",
    "from transformers import AutoTokenizer, AutoModelForSequenceClassification\n",
    "from scipy.stats import spearmanr\n",
    "import torch\n",
    "import os\n",
    "\n",
    "\n",
    "# CONFIG\n",
    "LOOKBACK_D = 7 # news window\n",
    "FWD_DAYS = 5 # forward return horizon\n",
    "PANEL_DAYS = 10 # length of panel\n",
    "NEWS_TOP_N = 5 # more headlines = smoother score\n",
    "ALPHA_KEY = os.environ[\"AV_KEY\"]\n",
    "NEWS_KEY = os.environ[\"NEWS_KEY\"]\n",
    "\n",
    "\n",
    "# company list\n",
    "ticker_to_name = {\n",
    "    \"TSLA\": \"Tesla\",\n",
    "    \"F\": \"Ford\",\n",
    "    \"GM\": \"GM\",\n",
    "    \"RIVN\": \"Rivian\",\n",
    "    \"LCID\": \"Lucid\",\n",
    "    \"TM\": \"Toyota\",\n",
    "    \"HMC\": \"Honda\",\n",
    "    \"NIO\": \"NIO\",\n",
    "    \"XPEV\": \"XPeng\",\n",
    "    \"STLA\": \"Stellantis\",\n",
    "    \"PSNY\": \"Polestar\",\n",
    "    \"LI\": \"Li Auto\",\n",
    "    \"RACE\": \"Ferrari\",\n",
    "    \"LCII\": \"LCI Industries\",\n",
    "    \"ALV\": \"Autoliv\"\n",
    "}\n"
   ]
  },
  {
   "cell_type": "markdown",
   "id": "32ea6ac2-5347-4366-ad28-40fac8562b3f",
   "metadata": {},
   "source": [
    "## Getting new data"
   ]
  },
  {
   "cell_type": "code",
   "execution_count": 2,
   "id": "7113438a-9991-4698-a374-e79245901550",
   "metadata": {},
   "outputs": [],
   "source": [
    "# Headline fetching for a specific date range\n",
    "def alpha_news_window(ticker, from_dt, to_dt, limit=NEWS_TOP_N):\n",
    "    url = \"https://www.alphavantage.co/query\"\n",
    "    params = {\n",
    "        \"function\": \"NEWS_SENTIMENT\",\n",
    "        \"tickers\": ticker,\n",
    "        \"time_from\": from_dt.strftime(\"%Y%m%dT%H%M\"),\n",
    "        \"time_to\": to_dt.strftime(\"%Y%m%dT%H%M\"),\n",
    "        \"sort\": \"LATEST\",\n",
    "        \"apikey\": ALPHA_KEY,\n",
    "    }\n",
    "    r = requests.get(url, params=params, timeout=10)\n",
    "    if r.status_code == 503:\n",
    "        raise RuntimeError(\"Alpha Vantage news quota exhausted.\")\n",
    "    r.raise_for_status()\n",
    "    feed = r.json().get(\"feed\", [])\n",
    "    return [item[\"title\"] for item in feed[:limit]]\n",
    "\n",
    "\n",
    "# Alpha-vantage fwd return from a given anchor date\n",
    "def alpha_fwd_return(ticker, anchor_date, days=5):\n",
    "    url = \"https://www.alphavantage.co/query\"\n",
    "    params = {\"function\": \"TIME_SERIES_DAILY_ADJUSTED\",\n",
    "              \"symbol\": ticker, \"apikey\": ALPHA_KEY, \"outputsize\": \"compact\"}\n",
    "    data = requests.get(url, params=params, timeout=10).json().get(\"Time Series (Daily)\", {})\n",
    "    if not data or anchor_date.isoformat() not in data:\n",
    "        return np.nan\n",
    "    ordered = sorted(data.keys())  # oldest->newest\n",
    "    idx_a = ordered.index(anchor_date.isoformat())\n",
    "    idx_b = idx_a + days\n",
    "    if idx_b >= len(ordered):\n",
    "        return np.nan\n",
    "    p0 = float(data[ordered[idx_a]][\"5. adjusted close\"])\n",
    "    p1 = float(data[ordered[idx_b]][\"5. adjusted close\"])\n",
    "    return (p1 - p0) / p0 * 100\n",
    "    \n"
   ]
  },
  {
   "cell_type": "markdown",
   "id": "2847461d-62d5-4ab6-83cd-cbe841cf37c3",
   "metadata": {},
   "source": [
    "## Loading the FinBert Model"
   ]
  },
  {
   "cell_type": "code",
   "execution_count": 3,
   "id": "ad989fb3-e7d7-432e-a6cb-838e95bb494e",
   "metadata": {},
   "outputs": [
    {
     "name": "stderr",
     "output_type": "stream",
     "text": [
      "C:\\Users\\bhall\\anaconda3\\envs\\pytorch_env_new\\lib\\site-packages\\huggingface_hub\\file_download.py:797: FutureWarning: `resume_download` is deprecated and will be removed in version 1.0.0. Downloads always resume when possible. If you want to force a new download, use `force_download=True`.\n",
      "  warnings.warn(\n"
     ]
    }
   ],
   "source": [
    "tokenizer = AutoTokenizer.from_pretrained(\"yiyanghkust/finbert-tone\")\n",
    "model = AutoModelForSequenceClassification.from_pretrained(\"yiyanghkust/finbert-tone\")\n",
    "model.eval()\n",
    "\n",
    "\n",
    "labels = [\"negative\", \"neutral\", \"positive\"]\n",
    "label_to_score = {\"negative\": -1, \"neutral\": 0, \"positive\": 1}\n"
   ]
  },
  {
   "cell_type": "markdown",
   "id": "ab9cfcf3-7a4a-499d-aa4a-b1e770b09029",
   "metadata": {},
   "source": [
    "## Sentiment Classification"
   ]
  },
  {
   "cell_type": "code",
   "execution_count": 4,
   "id": "9c9140af-fff7-44d0-acd4-25338970ce32",
   "metadata": {},
   "outputs": [],
   "source": [
    "def classify_sentiment(text):\n",
    "    inputs = tokenizer(text, return_tensors=\"pt\", truncation=True, max_length=512)\n",
    "    with torch.no_grad():\n",
    "        out = model(**inputs)\n",
    "    probs = torch.nn.functional.softmax(out.logits, dim=1).numpy()[0]\n",
    "    idx = np.argmax(probs)\n",
    "    return {\"score\": label_to_score[labels[idx]], \"conf\": probs[idx]}\n",
    "    \n"
   ]
  },
  {
   "cell_type": "markdown",
   "id": "bb630ada-f1c6-4dfa-80b4-375a2b22741e",
   "metadata": {},
   "source": [
    "## Agent 2 Function"
   ]
  },
  {
   "cell_type": "code",
   "execution_count": 5,
   "id": "0e1cab48-cf0f-46f1-ab51-ebc9dbcf83c4",
   "metadata": {},
   "outputs": [
    {
     "name": "stdout",
     "output_type": "stream",
     "text": [
      "TSLA: ✓\n",
      "F: ✓\n",
      "GM: ✓\n",
      "RIVN: ✓\n",
      "LCID: ✓\n",
      "TM: ✓\n",
      "HMC: ✓\n",
      "NIO: ✓\n",
      "XPEV: ✓\n",
      "STLA: ✓\n",
      "PSNY: ✓\n",
      "LI: ✓\n",
      "RACE: ✓\n",
      "LCII: ✓\n",
      "ALV: ✓\n",
      "\n",
      "Panel size: 88\n",
      "Spearman ρ = -0.098  (p = 0.36160)\n"
     ]
    },
    {
     "data": {
      "image/png": "[encoded data removed]",
      "text/plain": [
       "<Figure size 640x480 with 1 Axes>"
      ]
     },
     "metadata": {},
     "output_type": "display_data"
    }
   ],
   "source": [
    "# build panel\n",
    "today = dt.date.today()\n",
    "trade_days = pd.bdate_range(end=today - dt.timedelta(days=FWD_DAYS),\n",
    "                            periods=PANEL_DAYS)\n",
    "\n",
    "\n",
    "panel = []\n",
    "for tkr, cname in ticker_to_name.items():\n",
    "    print(f\"{tkr}: \", end=\"\", flush=True)\n",
    "    for anchor in trade_days:\n",
    "        news_from = (anchor - dt.timedelta(days=LOOKBACK_D)).date()\n",
    "        headlines = alpha_news_window(tkr, news_from, anchor.date(), limit=NEWS_TOP_N)\n",
    "        if not headlines:\n",
    "            continue\n",
    "        scores, confs = [], []\n",
    "        for h in headlines:\n",
    "            \n",
    "\n",
    "            res = classify_sentiment(h)\n",
    "            scores.append(res[\"score\"])\n",
    "            confs.append(res[\"conf\"])\n",
    "        s_score = float(np.average(scores, weights=np.square(confs)))\n",
    "        fwd_ret = alpha_fwd_return(tkr, anchor.date(), FWD_DAYS)\n",
    "        if np.isnan(fwd_ret):\n",
    "            continue\n",
    "        panel.append([anchor.date(), tkr, s_score, fwd_ret, np.mean(confs)])\n",
    "        time.sleep(0.15)\n",
    "    print(\"✓\")\n",
    "\n",
    "\n",
    "panel_df = pd.DataFrame(\n",
    "        panel,\n",
    "        columns=[\"date\", \"ticker\", \"sentiment\", \"fwd_ret_%\", \"mean_conf\"]\n",
    ")\n",
    "print(f\"\\nPanel size: {len(panel_df)}\")\n",
    "\n",
    "\n",
    "# correlation & plot\n",
    "rho, p = spearmanr(panel_df[\"sentiment\"], panel_df[\"fwd_ret_%\"])\n",
    "print(f\"Spearman ρ = {rho:.3f}  (p = {p:.5f})\")\n",
    "\n",
    "\n",
    "sns.regplot(data=panel_df, x=\"sentiment\", y=\"fwd_ret_%\", scatter_kws={\"s\":12})\n",
    "plt.axhline(0, ls=\"--\", lw=0.7); plt.axvline(0, ls=\"--\", lw=0.7)\n",
    "plt.title(f\"FinBERT tone vs 5-day forward return ({PANEL_DAYS}-day panel)\")\n",
    "plt.tight_layout(); plt.show()\n"
   ]
  },
  {
   "cell_type": "markdown",
   "id": "5b16d4f8-06a5-4b59-b199-b60071f8b8a3",
   "metadata": {},
   "source": [
    "## Saving Data for evals"
   ]
  },
  {
   "cell_type": "code",
   "execution_count": 9,
   "id": "bffdd68d-6f29-4a53-9b4a-45042ba7c244",
   "metadata": {},
   "outputs": [
    {
     "name": "stdout",
     "output_type": "stream",
     "text": [
      "Saved 89 rows to panel_runs\\panel_2025-07-30.csv\n"
     ]
    }
   ],
   "source": [
    "# Saving panel to disk\n",
    "import os, datetime as dt, pathlib, pandas as pd\n",
    "\n",
    "\n",
    "SAVE_DIR = pathlib.Path(\"panel_runs\")\n",
    "SAVE_DIR.mkdir(exist_ok=True)\n",
    "\n",
    "\n",
    "stamp = dt.date.today().strftime(\"%Y-%m-%d\")\n",
    "fname = SAVE_DIR / f\"panel_{stamp}.csv\"\n",
    "\n",
    "\n",
    "panel_df.to_csv(fname, index=False)\n",
    "print(f\"Saved {len(panel_df)} rows to {fname}\")\n"
   ]
  },
  {
   "cell_type": "markdown",
   "id": "1768058d-a8a8-4148-9cf5-3eafe15746d8",
   "metadata": {},
   "source": [
    "## Loading data for evals"
   ]
  },
  {
   "cell_type": "code",
   "execution_count": 12,
   "id": "f45136b2-62aa-4c0f-b9d6-d6f1128ed0c8",
   "metadata": {},
   "outputs": [
    {
     "name": "stdout",
     "output_type": "stream",
     "text": [
      "         date ticker  sentiment  fwd_ret_%  mean_conf  abs_sent\n",
      "0  2025-07-14   TSLA  -0.199868   3.657305   0.999908  0.199868\n",
      "1  2025-07-15   TSLA  -0.266363   6.863376   0.884590  0.266363\n",
      "2  2025-07-16   TSLA  -0.206835   3.385457   0.980118  0.206835\n",
      "3  2025-07-17   TSLA  -0.645730  -4.417520   0.938030  0.645730\n",
      "4  2025-07-18   TSLA  -0.766237  -4.122554   0.911903  0.766237\n"
     ]
    }
   ],
   "source": [
    "import pandas as pd\n",
    "panel_df = pd.read_csv(\"panel_runs/panel_2025-07-30.csv\")\n",
    "\n",
    "\n",
    "print(panel_df.head())\n"
   ]
  },
  {
   "cell_type": "markdown",
   "id": "203fe80a-840b-47fc-9946-07b3bbf79fbf",
   "metadata": {},
   "source": [
    "## Evaluations"
   ]
  },
  {
   "cell_type": "markdown",
   "id": "519b3276-9c77-43d7-a175-c4042875af3f",
   "metadata": {},
   "source": [
    "## Bucketed Bar Chart"
   ]
  },
  {
   "cell_type": "code",
   "execution_count": 6,
   "id": "cde00da2-4424-4ca6-9c16-48068eee9d05",
   "metadata": {},
   "outputs": [
    {
     "name": "stderr",
     "output_type": "stream",
     "text": [
      "C:\\Users\\bhall\\AppData\\Local\\Temp\\ipykernel_30300\\494988352.py:13: FutureWarning: The default of observed=False is deprecated and will be changed to True in a future version of pandas. Pass observed=False to retain current behavior or observed=True to adopt the future default and silence this warning.\n",
      "  .groupby([\"bucket\", \"direction_align\"])\n"
     ]
    },
    {
     "data": {
      "image/png": "[encoded data removed]",
      "text/plain": [
       "<Figure size 600x400 with 1 Axes>"
      ]
     },
     "metadata": {},
     "output_type": "display_data"
    }
   ],
   "source": [
    "import seaborn as sns, matplotlib.pyplot as plt, pandas as pd, numpy as np\n",
    "\n",
    "\n",
    "bins = [-1.0, -0.25, 0.25, 1.0]\n",
    "labels = [\"Bearish\", \"Neutral\", \"Bullish\"]\n",
    "panel_df[\"bucket\"] = pd.cut(panel_df[\"sentiment\"], bins=bins, labels=labels)\n",
    "\n",
    "\n",
    "panel_df[\"direction_align\"] = (\n",
    "    (panel_df.sentiment >  0) & (panel_df[\"fwd_ret_%\"] > 0) |\n",
    "    (panel_df.sentiment <  0) & (panel_df[\"fwd_ret_%\"] < 0)\n",
    ")\n",
    "\n",
    "\n",
    "pivot = (panel_df\n",
    "         .groupby([\"bucket\", \"direction_align\"])\n",
    "         .size()\n",
    "         .unstack(fill_value=0))\n",
    "\n",
    "\n",
    "pivot.plot(kind=\"bar\", stacked=True, figsize=(6,4))\n",
    "plt.title(\"Direction alignment by sentiment bucket\")\n",
    "plt.ylabel(\"Number of ticker-days\")\n",
    "plt.xticks(rotation=0)\n",
    "plt.legend(labels=[\"Mis-align\",\"Align\"], title=\"Price direction\")\n",
    "plt.tight_layout(); plt.show()\n"
   ]
  },
  {
   "cell_type": "markdown",
   "id": "0846f427-de44-445f-bd54-d9a159c53a53",
   "metadata": {},
   "source": [
    "## Confidence vs Magnitude"
   ]
  },
  {
   "cell_type": "code",
   "execution_count": 7,
   "id": "b66d3e17-32d7-4e80-be34-19f2ba6f7d00",
   "metadata": {},
   "outputs": [
    {
     "data": {
      "image/png": "[encoded data removed]",
      "text/plain": [
       "<Figure size 640x480 with 1 Axes>"
      ]
     },
     "metadata": {},
     "output_type": "display_data"
    }
   ],
   "source": [
    "panel.append([anchor.date(), tkr, s_score, fwd_ret, np.mean(confs)])\n",
    "\n",
    "panel_df = pd.DataFrame(panel, columns=[\"date\",\"ticker\",\"sentiment\",\"fwd_ret_%\",\"mean_conf\"])\n",
    "\n",
    "\n",
    "panel_df[\"abs_sent\"] = panel_df[\"sentiment\"].abs()\n",
    "sns.scatterplot(data=panel_df, x=\"abs_sent\", y=\"mean_conf\")\n",
    "plt.title(\"Model confidence vs |sentiment|\")\n",
    "plt.xlabel(\"|sentiment|\"); plt.ylabel(\"mean_confidence\")\n",
    "plt.tight_layout(); plt.show()\n"
   ]
  },
  {
   "cell_type": "code",
   "execution_count": 8,
   "id": "ff3381f0-0c15-4f49-82d1-533deff18851",
   "metadata": {},
   "outputs": [
    {
     "name": "stdout",
     "output_type": "stream",
     "text": [
      "ALV    sentiment -0.261   avg 5-day return +0.23%   ❌ mis-align\n",
      "F      sentiment -0.231   avg 5-day return -0.62%   ✅ align\n",
      "GM     sentiment -0.319   avg 5-day return -0.26%   ✅ align\n",
      "HMC    sentiment -1.000   avg 5-day return +6.76%   ❌ mis-align\n",
      "LCID   sentiment -0.395   avg 5-day return +9.38%   ❌ mis-align\n",
      "LI     sentiment -0.315   avg 5-day return -1.65%   ✅ align\n",
      "NIO    sentiment -0.477   avg 5-day return +9.81%   ❌ mis-align\n",
      "RACE   sentiment -0.330   avg 5-day return +2.07%   ❌ mis-align\n",
      "RIVN   sentiment -0.262   avg 5-day return +4.98%   ❌ mis-align\n",
      "STLA   sentiment -0.242   avg 5-day return +1.18%   ❌ mis-align\n",
      "TM     sentiment -0.137   avg 5-day return +7.88%   ❌ mis-align\n",
      "TSLA   sentiment -0.439   avg 5-day return +0.17%   ❌ mis-align\n",
      "XPEV   sentiment -0.703   avg 5-day return +3.38%   ❌ mis-align\n",
      "\n",
      "Spearman ρ (ticker cross-section) = -0.335   (p = 0.263)\n"
     ]
    }
   ],
   "source": [
    "cross = (panel_df\n",
    "         .groupby(\"ticker\")\n",
    "         .agg(sentiment_score = (\"sentiment\", \"mean\"),\n",
    "              fwd_ret_mean = (\"fwd_ret_%\", \"mean\"))\n",
    "         .reset_index())\n",
    "\n",
    "\n",
    "cross[\"direction_align\"] = (\n",
    "    (cross.sentiment_score >  0) & (cross.fwd_ret_mean > 0) |\n",
    "    (cross.sentiment_score <  0) & (cross.fwd_ret_mean < 0)\n",
    ")\n",
    "\n",
    "\n",
    "\n",
    "for _, row in cross.iterrows():\n",
    "    verdict = \"Align\" if row.direction_align else \"Mis-align\"\n",
    "    print(f\"{row.ticker:5s}  sentiment {row.sentiment_score:+.3f}  \"\n",
    "          f\"avg 5-day return {row.fwd_ret_mean:+.2f}%  {verdict}\")\n",
    "\n",
    "\n",
    "rho, p = spearmanr(cross.sentiment_score, cross.fwd_ret_mean)\n",
    "print(f\"\\nSpearman ρ (ticker cross-section) = {rho:.3f}  (p = {p:.3f})\")\n"
   ]
  },
  {
   "cell_type": "code",
   "execution_count": null,
   "id": "5260606a-16c6-42e8-995f-5de0070a5ffd",
   "metadata": {},
   "outputs": [],
   "source": []
  }
 ],
 "metadata": {
  "kernelspec": {
   "display_name": "Python (PyTorch GPU)",
   "language": "python",
   "name": "pytorch_env_new"
  },
  "language_info": {
   "codemirror_mode": {
    "name": "ipython",
    "version": 3
   },
   "file_extension": ".py",
   "mimetype": "text/x-python",
   "name": "python",
   "nbconvert_exporter": "python",
   "pygments_lexer": "ipython3",
   "version": "3.10.16"
  }
 },
 "nbformat": 4,
 "nbformat_minor": 5
}
